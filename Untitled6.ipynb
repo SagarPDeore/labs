{
  "nbformat": 4,
  "nbformat_minor": 0,
  "metadata": {
    "colab": {
      "provenance": [],
      "authorship_tag": "ABX9TyPw2m4IZtQs0FzODDB5GJX7",
      "include_colab_link": true
    },
    "kernelspec": {
      "name": "python3",
      "display_name": "Python 3"
    },
    "language_info": {
      "name": "python"
    }
  },
  "cells": [
    {
      "cell_type": "markdown",
      "metadata": {
        "id": "view-in-github",
        "colab_type": "text"
      },
      "source": [
        "<a href=\"https://colab.research.google.com/github/SagarPDeore/labs/blob/main/Untitled6.ipynb\" target=\"_parent\"><img src=\"https://colab.research.google.com/assets/colab-badge.svg\" alt=\"Open In Colab\"/></a>"
      ]
    },
    {
      "cell_type": "code",
      "execution_count": null,
      "metadata": {
        "colab": {
          "base_uri": "https://localhost:8080/"
        },
        "id": "1t7gjk0Tovi4",
        "outputId": "7d3a5325-9beb-4037-bfb8-31d0b8a5ca2e"
      },
      "outputs": [
        {
          "output_type": "stream",
          "name": "stdout",
          "text": [
            "[[111 'sagar' 19]\n",
            " [117 'vedant' 18]\n",
            " [105 'rahul' 18]\n",
            " [101 'aditya' 20]\n",
            " [107 'abhishek' 20]\n",
            " [108 'rohan' 17]\n",
            " [109 'tanmay' 19]\n",
            " [110 'essak' 19]]\n",
            "[[111 'sagar' 19]\n",
            " [117 'vedant' 18]\n",
            " [105 'rahul' 18]\n",
            " [101 'aditya' 20]\n",
            " [107 'abhishekh' 20]\n",
            " [108 'rohan' 17]\n",
            " [109 'tanmay' 19]\n",
            " [110 'essak' 19]]\n"
          ]
        }
      ],
      "source": [
        "# array operations in phython\n",
        "\n",
        "import pandas as pd\n",
        "import pandas as pd\n",
        "\n",
        "df = pd.read_excel('/content/sagar 2.xlsx')\n",
        "df1 = pd.read_excel('/content/sagar.xlsx')\n",
        "\n",
        "array = df.to_numpy()\n",
        "array1 = df1.to_numpy()\n",
        "\n",
        "print(array)\n",
        "print(array1)\n",
        "\n",
        "\n",
        "\n"
      ]
    },
    {
      "cell_type": "code",
      "source": [
        "matrix_length = len(array)\n",
        "\n",
        "print(matrix_length)"
      ],
      "metadata": {
        "colab": {
          "base_uri": "https://localhost:8080/"
        },
        "id": "ZUde7yFJyma_",
        "outputId": "5623a403-b13e-4216-a317-f471c69408c4"
      },
      "execution_count": null,
      "outputs": [
        {
          "output_type": "stream",
          "name": "stdout",
          "text": [
            "8\n"
          ]
        }
      ]
    },
    {
      "cell_type": "code",
      "source": [
        "for i in range(matrix_length):\n",
        "  print(array[i][-1])"
      ],
      "metadata": {
        "colab": {
          "base_uri": "https://localhost:8080/"
        },
        "id": "Nz4uyqkGy3dW",
        "outputId": "823133a8-72ae-4b47-cde8-7509651f6aa5"
      },
      "execution_count": null,
      "outputs": [
        {
          "output_type": "stream",
          "name": "stdout",
          "text": [
            "19\n",
            "18\n",
            "18\n",
            "20\n",
            "20\n",
            "17\n",
            "19\n",
            "19\n"
          ]
        }
      ]
    }
  ]
}