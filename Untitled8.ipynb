{
  "nbformat": 4,
  "nbformat_minor": 0,
  "metadata": {
    "colab": {
      "provenance": [],
      "authorship_tag": "ABX9TyNHndvXC+Pq7GpUlbqjune5",
      "include_colab_link": true
    },
    "kernelspec": {
      "name": "python3",
      "display_name": "Python 3"
    },
    "language_info": {
      "name": "python"
    }
  },
  "cells": [
    {
      "cell_type": "markdown",
      "metadata": {
        "id": "view-in-github",
        "colab_type": "text"
      },
      "source": [
        "<a href=\"https://colab.research.google.com/github/SagarPDeore/labs/blob/main/Untitled8.ipynb\" target=\"_parent\"><img src=\"https://colab.research.google.com/assets/colab-badge.svg\" alt=\"Open In Colab\"/></a>"
      ]
    },
    {
      "cell_type": "code",
      "source": [
        "vegetables_budget = 166  # Budget for vegetables\n",
        "grocery_budget = 166  # Budget for grocery\n",
        "daily_needs_budget = 166  # Budget for daily needs\n",
        "total_budget = 500  # Total budget available\n",
        "\n",
        "if vegetables_budget > total_budget:\n",
        "    print(\"Sorry, the budget for vegetables is greater than your total budget.\")\n",
        "elif vegetables_budget == grocery_budget == daily_needs_budget == total_budget / 3:\n",
        "    print(\"sagar can buy all three items.\")\n",
        "else:\n",
        "    print(\"sagar need to adjust your budget allocation.\")"
      ],
      "metadata": {
        "colab": {
          "base_uri": "https://localhost:8080/"
        },
        "id": "7htqR0XJwaI6",
        "outputId": "8f25b72d-3996-4688-b736-3ac52da128c7"
      },
      "execution_count": null,
      "outputs": [
        {
          "output_type": "stream",
          "name": "stdout",
          "text": [
            "sagar need to adjust your budget allocation.\n"
          ]
        }
      ]
    },
    {
      "cell_type": "code",
      "source": [
        "budget = 500\n",
        "vegetable_cost = int(input(\"Enter the cost of vegetables: \"))\n",
        "grocery_cost = int(input(\"Enter the cost of groceries: \"))\n",
        "daily_needs_cost = int(input(\"Enter the cost of daily needs: \"))\n",
        "\n",
        "if vegetable_cost > budget:\n",
        "    print(\"Cannot buy vegetables. Budget exceeded.\")\n",
        "elif vegetable_cost + grocery_cost + daily_needs_cost <= budget:\n",
        "    print(\"All items can be bought.\")\n",
        "elif vegetable_cost + grocery_cost <= budget:\n",
        "    print(\" sagar Can buy vegetables and groceries.\")\n",
        "else:\n",
        "    print(\"sagar can only buy vegetables.\")"
      ],
      "metadata": {
        "colab": {
          "base_uri": "https://localhost:8080/"
        },
        "id": "yjJqGUmmzMhR",
        "outputId": "967693f6-cfcd-43e6-999d-951b92cf3524"
      },
      "execution_count": null,
      "outputs": [
        {
          "output_type": "stream",
          "name": "stdout",
          "text": [
            "Enter the cost of vegetables: 166\n",
            "Enter the cost of groceries: 166\n",
            "Enter the cost of daily needs: 166\n",
            "All items can be bought.\n"
          ]
        }
      ]
    },
    {
      "cell_type": "code",
      "source": [
        "\n",
        "import math\n",
        "\n",
        "\n",
        "vegetable_budget = int(input(\"Enter the budget for vegetables: \"))\n",
        "grocery_budget = int(input(\"Enter the budget for groceries: \"))\n",
        "daily_needs_budget = int(input(\"Enter the budget for daily needs: \"))\n",
        "\n",
        "total_budget = vegetable_budget + grocery_budget + daily_needs_budget\n",
        "\n",
        "if vegetable_budget > total_budget:\n",
        " print(\"Sagar cannot buy daily needs.\")\n",
        "\n",
        "else:\n",
        " daily_needs_budget = total_budget - vegetable_budget - grocery_budget\n",
        "\n",
        "if daily_needs_budget <= 166:\n",
        "  print(\"Sagar can buy all the three things.\")\n",
        "\n",
        "else:\n",
        "  print(\"Sagar cannot buy daily needs.\")\n"
      ],
      "metadata": {
        "colab": {
          "base_uri": "https://localhost:8080/"
        },
        "id": "BthhMA1u0psX",
        "outputId": "fb20e6a5-2a39-4ca1-e50e-f8e0a4190e95"
      },
      "execution_count": null,
      "outputs": [
        {
          "output_type": "stream",
          "name": "stdout",
          "text": [
            "Enter the budget for vegetables: 500\n",
            "Enter the budget for groceries: 300\n",
            "Enter the budget for daily needs: 100\n",
            "Sagar can buy all the three things.\n"
          ]
        }
      ]
    },
    {
      "cell_type": "code",
      "source": [],
      "metadata": {
        "id": "ED4ds-2Y18BR"
      },
      "execution_count": null,
      "outputs": []
    }
  ]
}