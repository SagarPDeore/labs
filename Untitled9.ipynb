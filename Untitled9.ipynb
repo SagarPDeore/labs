{
  "nbformat": 4,
  "nbformat_minor": 0,
  "metadata": {
    "colab": {
      "provenance": [],
      "authorship_tag": "ABX9TyOB2fDUqNoz1VkClJL/mY/T",
      "include_colab_link": true
    },
    "kernelspec": {
      "name": "python3",
      "display_name": "Python 3"
    },
    "language_info": {
      "name": "python"
    }
  },
  "cells": [
    {
      "cell_type": "markdown",
      "metadata": {
        "id": "view-in-github",
        "colab_type": "text"
      },
      "source": [
        "<a href=\"https://colab.research.google.com/github/SagarPDeore/labs/blob/main/Untitled9.ipynb\" target=\"_parent\"><img src=\"https://colab.research.google.com/assets/colab-badge.svg\" alt=\"Open In Colab\"/></a>"
      ]
    },
    {
      "cell_type": "code",
      "source": [
        "import csv\n",
        "\n",
        "# A) Find the employee who is having maximum salary.\n",
        "def find_employee_with_maximum_salary(data):\n",
        "    max_salary = 0\n",
        "    max_salary_employee = \"\"\n",
        "    for row in data:\n",
        "        salary = int(row[2])  # Assuming salary is in the third column\n",
        "        if salary > max_salary:\n",
        "            max_salary = salary\n",
        "            max_salary_employee = row[0]  # Assuming employee name is in the first column\n",
        "    return max_salary_employee\n",
        "\n",
        "# B) Find the employee who's job title is Chief Human Resources.\n",
        "def find_employee_with_job_title(data, job_title):\n",
        "    for row in data:\n",
        "        if row[1] == job_title:  # Assuming job title is in the second column\n",
        "            return row[0]  # Assuming employee name is in the first column\n",
        "    return None\n",
        "\n",
        "# C) Find the experience of all the employees.\n",
        "def find_employee_experience(data):\n",
        "    experiences = {}\n",
        "    for row in data:\n",
        "        employee_name = row[0]  # Assuming employee name is in the first column\n",
        "        hire_year = int(row[3])  # Assuming hire year is in the fourth column\n",
        "        current_year = 2023  # Assuming the current year is 2023\n",
        "        experience = current_year - hire_year\n",
        "        experiences[employee_name] = experience\n",
        "    return experiences\n",
        "\n",
        "# D) Find the total basic pays of employees in Fiscal Quarter 4.\n",
        "def find_total_basic_pay(data, fiscal_quarter):\n",
        "    total_basic_pay = 0\n",
        "    for row in data:\n",
        "        pay_period = row[4]  # Assuming pay period is in the fifth column\n",
        "        basic_pay = float(row[5])  # Assuming basic pay is in the sixth column\n",
        "        if pay_period == fiscal_quarter:\n",
        "            total_basic_pay += basic_pay\n",
        "    return total_basic_pay\n",
        "\n",
        "# Read the employee payroll dataset from a CSV file\n",
        "with open('dataset5.csv', 'r') as file:\n",
        "    csv_reader = csv.reader(file)\n",
        "    data = list(csv_reader)\n",
        "\n",
        "    # Call the functions for each task\n",
        "    max_salary_employee = find_employee_with_maximum_salary(data)\n",
        "    print(\"Employee with maximum salary:\", max_salary_employee)\n",
        "\n",
        "    chief_hr_employee = find_employee_with_job_title(data, \"Chief Human Resources\")\n",
        "    print(\"Employee with job title 'Chief Human Resources':\", chief_hr_employee)\n",
        "\n",
        "    employee_experience = find_employee_experience(data)\n",
        "    print(\"Employee experience:\")\n",
        "    for employee, experience in employee_experience.items():\n",
        "        print(employee, \":\", experience, \"years\")\n",
        "\n",
        "    fiscal_quarter = 4\n",
        "    total_basic_pays = find_total_basic_pay(data, fiscal_quarter)\n",
        "    print(\"Total basic pays for Fiscal Quarter\", fiscal_quarter, \":\", total_basic_pays)"
      ],
      "metadata": {
        "colab": {
          "base_uri": "https://localhost:8080/",
          "height": 356
        },
        "id": "2BsMKLZVQZZc",
        "outputId": "d0e8e1c0-3eb0-4625-f167-f63dba27dc68"
      },
      "execution_count": null,
      "outputs": [
        {
          "output_type": "error",
          "ename": "ValueError",
          "evalue": "ignored",
          "traceback": [
            "\u001b[0;31m---------------------------------------------------------------------------\u001b[0m",
            "\u001b[0;31mValueError\u001b[0m                                Traceback (most recent call last)",
            "\u001b[0;32m<ipython-input-8-afd7ec10b623>\u001b[0m in \u001b[0;36m<cell line: 43>\u001b[0;34m()\u001b[0m\n\u001b[1;32m     46\u001b[0m \u001b[0;34m\u001b[0m\u001b[0m\n\u001b[1;32m     47\u001b[0m     \u001b[0;31m# Call the functions for each task\u001b[0m\u001b[0;34m\u001b[0m\u001b[0;34m\u001b[0m\u001b[0m\n\u001b[0;32m---> 48\u001b[0;31m     \u001b[0mmax_salary_employee\u001b[0m \u001b[0;34m=\u001b[0m \u001b[0mfind_employee_with_maximum_salary\u001b[0m\u001b[0;34m(\u001b[0m\u001b[0mdata\u001b[0m\u001b[0;34m)\u001b[0m\u001b[0;34m\u001b[0m\u001b[0;34m\u001b[0m\u001b[0m\n\u001b[0m\u001b[1;32m     49\u001b[0m     \u001b[0mprint\u001b[0m\u001b[0;34m(\u001b[0m\u001b[0;34m\"Employee with maximum salary:\"\u001b[0m\u001b[0;34m,\u001b[0m \u001b[0mmax_salary_employee\u001b[0m\u001b[0;34m)\u001b[0m\u001b[0;34m\u001b[0m\u001b[0;34m\u001b[0m\u001b[0m\n\u001b[1;32m     50\u001b[0m \u001b[0;34m\u001b[0m\u001b[0m\n",
            "\u001b[0;32m<ipython-input-8-afd7ec10b623>\u001b[0m in \u001b[0;36mfind_employee_with_maximum_salary\u001b[0;34m(data)\u001b[0m\n\u001b[1;32m      6\u001b[0m     \u001b[0mmax_salary_employee\u001b[0m \u001b[0;34m=\u001b[0m \u001b[0;34m\"\"\u001b[0m\u001b[0;34m\u001b[0m\u001b[0;34m\u001b[0m\u001b[0m\n\u001b[1;32m      7\u001b[0m     \u001b[0;32mfor\u001b[0m \u001b[0mrow\u001b[0m \u001b[0;32min\u001b[0m \u001b[0mdata\u001b[0m\u001b[0;34m:\u001b[0m\u001b[0;34m\u001b[0m\u001b[0;34m\u001b[0m\u001b[0m\n\u001b[0;32m----> 8\u001b[0;31m         \u001b[0msalary\u001b[0m \u001b[0;34m=\u001b[0m \u001b[0mint\u001b[0m\u001b[0;34m(\u001b[0m\u001b[0mrow\u001b[0m\u001b[0;34m[\u001b[0m\u001b[0;36m2\u001b[0m\u001b[0;34m]\u001b[0m\u001b[0;34m)\u001b[0m  \u001b[0;31m# Assuming salary is in the third column\u001b[0m\u001b[0;34m\u001b[0m\u001b[0;34m\u001b[0m\u001b[0m\n\u001b[0m\u001b[1;32m      9\u001b[0m         \u001b[0;32mif\u001b[0m \u001b[0msalary\u001b[0m \u001b[0;34m>\u001b[0m \u001b[0mmax_salary\u001b[0m\u001b[0;34m:\u001b[0m\u001b[0;34m\u001b[0m\u001b[0;34m\u001b[0m\u001b[0m\n\u001b[1;32m     10\u001b[0m             \u001b[0mmax_salary\u001b[0m \u001b[0;34m=\u001b[0m \u001b[0msalary\u001b[0m\u001b[0;34m\u001b[0m\u001b[0;34m\u001b[0m\u001b[0m\n",
            "\u001b[0;31mValueError\u001b[0m: invalid literal for int() with base 10: 'Fiscal Period'"
          ]
        }
      ]
    }
  ]
}