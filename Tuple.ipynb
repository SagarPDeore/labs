{
  "nbformat": 4,
  "nbformat_minor": 0,
  "metadata": {
    "colab": {
      "provenance": [],
      "mount_file_id": "1fzAh27LbUN2KjDOwViZWpwOCMS9cyHly",
      "authorship_tag": "ABX9TyN901XYBhjlj19Xp29iIdGy",
      "include_colab_link": true
    },
    "kernelspec": {
      "name": "python3",
      "display_name": "Python 3"
    },
    "language_info": {
      "name": "python"
    }
  },
  "cells": [
    {
      "cell_type": "markdown",
      "metadata": {
        "id": "view-in-github",
        "colab_type": "text"
      },
      "source": [
        "<a href=\"https://colab.research.google.com/github/SagarPDeore/labs/blob/main/Tuple.ipynb\" target=\"_parent\"><img src=\"https://colab.research.google.com/assets/colab-badge.svg\" alt=\"Open In Colab\"/></a>"
      ]
    },
    {
      "cell_type": "markdown",
      "source": [
        "# tuple operations"
      ],
      "metadata": {
        "id": "dbknV2vBKzrC"
      }
    },
    {
      "cell_type": "code",
      "execution_count": null,
      "metadata": {
        "id": "y90Z5rB6COAK",
        "colab": {
          "base_uri": "https://localhost:8080/"
        },
        "outputId": "c8a487e4-ea6f-4c85-98fa-92ea6b0318ef"
      },
      "outputs": [
        {
          "output_type": "stream",
          "name": "stdout",
          "text": [
            "(10, 20, 30, 'phython', 15.71)\n",
            "(20, 30, 40, 'sagar')\n",
            "10\n",
            "15.71\n",
            "40\n",
            "1\n",
            "1\n",
            "1\n",
            "1\n",
            "1\n",
            "(20, 30, 'phython')\n",
            "(10, 20, 30, 'phython', 15.71, 50, 60)\n",
            "5\n",
            "False\n",
            "True\n",
            "(10, 20, 30, 'phython', 15.71, 20, 30, 40, 'sagar')\n",
            "(10, 20, 30, 'phython', 15.71, 10, 20, 30, 'phython', 15.71, 10, 20, 30, 'phython', 15.71)\n"
          ]
        }
      ],
      "source": [
        "t1 = (10,20,30,\"phython\",15.71) #declaring tuple\n",
        "t2 = (20,30,40,\"sagar\")\n",
        "print(t1)\n",
        "\n",
        "print(t2)\n",
        "\n",
        " #acccesing tuple elements using indexing\n",
        "print(t1[0])\n",
        "\n",
        "#nevigating tuple index\n",
        "print(t1[-1])\n",
        "print(t2[-2])\n",
        "\n",
        "#iterating through tuple\n",
        "for i in t1:\n",
        " print(1)\n",
        "\n",
        "#slicing tuple\n",
        "st1 = t1[1:4]\n",
        "print(st1)\n",
        "\n",
        "#tuples are immutable\n",
        "str2=t1+(50,60)\n",
        "print(str2)\n",
        "\n",
        "#finding length of tuple\n",
        "str3=t1.__len__()\n",
        "print(str3)\n",
        "\n",
        "#membership operators\n",
        "\n",
        "print(10 in t2)\n",
        "print(10 not in t2)\n",
        "\n",
        "#concatinate tuple./\n",
        "\n",
        "t3=t1+t2\n",
        "print(t3)\n",
        "\n",
        "#multiplying tuple\n",
        "\n",
        "t4=t1*3\n",
        "print(t4)\n",
        "\n",
        "\n",
        "\n",
        "\n"
      ]
    },
    {
      "cell_type": "code",
      "source": [],
      "metadata": {
        "id": "B4plwrhlMYQm"
      },
      "execution_count": null,
      "outputs": []
    }
  ]
}