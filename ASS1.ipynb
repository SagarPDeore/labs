{
  "nbformat": 4,
  "nbformat_minor": 0,
  "metadata": {
    "colab": {
      "provenance": [],
      "authorship_tag": "ABX9TyNIUXgpAq8j5GZgHnO+NLF3",
      "include_colab_link": true
    },
    "kernelspec": {
      "name": "python3",
      "display_name": "Python 3"
    },
    "language_info": {
      "name": "python"
    }
  },
  "cells": [
    {
      "cell_type": "markdown",
      "metadata": {
        "id": "view-in-github",
        "colab_type": "text"
      },
      "source": [
        "<a href=\"https://colab.research.google.com/github/SagarPDeore/labs/blob/main/ASS1.ipynb\" target=\"_parent\"><img src=\"https://colab.research.google.com/assets/colab-badge.svg\" alt=\"Open In Colab\"/></a>"
      ]
    },
    {
      "cell_type": "code",
      "execution_count": null,
      "metadata": {
        "id": "dupUcFGlA3Pz"
      },
      "outputs": [],
      "source": []
    },
    {
      "cell_type": "code",
      "source": [
        "import csv\n",
        "#opening files\n",
        "f1 = open(\"result1.csv\",\"r\")\n",
        "f2 = open(\"place1.csv\",\"r\")\n",
        "f3 = open(\"student.csv\",\"w\")\n",
        "\n",
        "d1=list(csv.reader(f1,delimiter=','))\n",
        "d2=list(csv.reader(f2,delimiter=','))\n",
        "\n",
        "print(\"File 1 Conttents:\",d1,\"\\n\\n\")\n",
        "print(\"File 2 Conttents:\",d2,\"\\n\\n\")\n",
        "\n",
        "#writing data in f3\n",
        "d3=[]\n",
        "for i in range (len(d1)):\n",
        "  d3.append(d1[i]+d2[i])\n",
        "\n",
        "\n",
        "print(d3,\"\\n\\n\")\n",
        "cw=csv.writer(f3)\n",
        "cw.writerows(d3)\n",
        "\n",
        "\n",
        "f1.close()\n",
        "f2.close()\n",
        "f3.close()\n",
        "\n",
        "\n",
        "f = open(\"student.csv\",\"r\")\n",
        "contents=f.read()\n",
        "\n",
        "lines=contents.split(\"\\n\")\n",
        "\n",
        "eid = []; nm = []; per = []; sal = [];\n",
        "\n",
        "for l in range (10):\n",
        "  words = lines[l].split(\",\")\n",
        "  print(words)\n",
        "  eid.append(int(words[0]))\n",
        "  nm.append(words[1])\n",
        "  per.append(int(words[2]))\n",
        "  sal.append(int(words[3]))\n",
        "\n",
        "\n",
        "#Max Salary\n",
        "print(\"\\n\\nMaximum Salary is\", max(sal),\"to\",nm[sal.index(max(sal))])\n",
        "\n",
        "\n",
        "#Min Salary\n",
        "print(\"\\n\\nMinimum Salary is\", min(sal),\"to\",nm[sal.index(min(sal))])\n",
        "\n",
        "#Sum of salary\n",
        "print(\"\\n\\nTotal salary is\",sum(sal))\n",
        "\n",
        "#Average Salary\n",
        "print(\"\\n\\nAverage Salary is\", sum(sal)/len(sal))\n",
        "\n",
        "\n",
        "#Max percentage\n",
        "print(\"\\n\\nMaximum percentage is\", max(per),\"to\",nm[per.index(max(per))])\n",
        "\n",
        "#Min percentage\n",
        "print(\"\\n\\nMinimum percentage is\", min(per),\"to\",nm[per.index(min(per))])\n",
        "\n",
        "#Average percentage\n",
        "print(\"\\n\\nAverage percentage is\", sum(per)/len(per))"
      ],
      "metadata": {
        "id": "RMabbGlv0m9g",
        "colab": {
          "base_uri": "https://localhost:8080/"
        },
        "outputId": "3e019229-a68a-4559-d827-24e0dcae1839"
      },
      "execution_count": null,
      "outputs": [
        {
          "output_type": "stream",
          "name": "stdout",
          "text": [
            "File 1 Conttents: [['1', 'A', '45'], ['2', 'B', '46'], ['3', 'C', '67'], ['4', 'I', '87'], ['5', 'U', '225'], ['6', 'H', '4542'], ['7', 'B', '44'], ['8', 'H', '445'], ['9', 'M', '666'], ['10', 'H', '66']] \n",
            "\n",
            "\n",
            "File 2 Conttents: [['32242424'], ['43424244'], ['32434234'], ['4334242424'], ['5000000000'], ['435678389'], ['927584584'], ['3648464848'], ['600000000'], ['9000000000']] \n",
            "\n",
            "\n",
            "[['1', 'A', '45', '32242424'], ['2', 'B', '46', '43424244'], ['3', 'C', '67', '32434234'], ['4', 'I', '87', '4334242424'], ['5', 'U', '225', '5000000000'], ['6', 'H', '4542', '435678389'], ['7', 'B', '44', '927584584'], ['8', 'H', '445', '3648464848'], ['9', 'M', '666', '600000000'], ['10', 'H', '66', '9000000000']] \n",
            "\n",
            "\n",
            "['1', 'A', '45', '32242424']\n",
            "['2', 'B', '46', '43424244']\n",
            "['3', 'C', '67', '32434234']\n",
            "['4', 'I', '87', '4334242424']\n",
            "['5', 'U', '225', '5000000000']\n",
            "['6', 'H', '4542', '435678389']\n",
            "['7', 'B', '44', '927584584']\n",
            "['8', 'H', '445', '3648464848']\n",
            "['9', 'M', '666', '600000000']\n",
            "['10', 'H', '66', '9000000000']\n",
            "\n",
            "\n",
            "Maximum Salary is 9000000000 to H\n",
            "\n",
            "\n",
            "Minimum Salary is 32242424 to A\n",
            "\n",
            "\n",
            "Total salary is 24054071147\n",
            "\n",
            "\n",
            "Average Salary is 2405407114.7\n",
            "\n",
            "\n",
            "Maximum percentage is 4542 to H\n",
            "\n",
            "\n",
            "Minimum percentage is 44 to B\n",
            "\n",
            "\n",
            "Average percentage is 623.3\n"
          ]
        }
      ]
    }
  ]
}